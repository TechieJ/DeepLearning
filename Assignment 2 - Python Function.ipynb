{
 "cells": [
  {
   "cell_type": "markdown",
   "metadata": {},
   "source": [
    "## Problem Statement"
   ]
  },
  {
   "cell_type": "markdown",
   "metadata": {},
   "source": [
    "Q.1 Write a Python Program to implement your own myreduce() function which works exactly like\n",
    "Python's built-in function reduce()\n"
   ]
  },
  {
   "cell_type": "code",
   "execution_count": 71,
   "metadata": {
    "scrolled": true
   },
   "outputs": [
    {
     "name": "stdout",
     "output_type": "stream",
     "text": [
      "Value afer myreduce: 30\n"
     ]
    }
   ],
   "source": [
    "def myreduce(fun, seq):\n",
    "    \n",
    "    if len(seq) == 0:\n",
    "        print('Empty sequence')\n",
    "        return 0\n",
    "    \n",
    "    if len(seq) == 1:\n",
    "        return seq[0]\n",
    "    \n",
    "    elem = fun(seq.pop(0), seq.pop(0))\n",
    "    seq.append(elem)\n",
    "    myreduce(fun, seq)\n",
    "    \n",
    "    return seq[0]\n",
    "    \n",
    "seq = [5, 2, 8, 1, 6, 8 , 0]\n",
    "rv = myreduce((lambda x,y: x+y), seq)\n",
    "print('Value afer myreduce:', rv)"
   ]
  },
  {
   "cell_type": "markdown",
   "metadata": {},
   "source": [
    "Q.2 Write a Python program to implement your own myfilter() function which works exactly like\n",
    "Python's built-in function filter()"
   ]
  },
  {
   "cell_type": "code",
   "execution_count": 83,
   "metadata": {},
   "outputs": [
    {
     "name": "stdout",
     "output_type": "stream",
     "text": [
      "Value afer myfilter: [2, 8, 6, 8]\n"
     ]
    }
   ],
   "source": [
    "def myfilter(fun, seq):\n",
    "    \n",
    "    if len(seq) == 0:\n",
    "        print('Empty sequence')\n",
    "        return 0\n",
    "    \n",
    "    return [x for x in seq if fun(x)]\n",
    "    \n",
    "seq = [5, 2, 8, 1, 6, 8]\n",
    "\n",
    "fv = myfilter((lambda x: x%2==0), seq)\n",
    "print('Value afer myfilter:', fv)"
   ]
  },
  {
   "cell_type": "markdown",
   "metadata": {},
   "source": [
    "Q.3 Implement List comprehensions to produce the following lists.\n",
    "   Write List comprehensions to produce the following Lists\n",
    "   \n",
    "    ['A', 'C', 'A', 'D', 'G', 'I', ’L’, ‘ D’]\n",
    "   \n",
    "    ['x', 'xx', 'xxx', 'xxxx', 'y', 'yy', 'yyy', 'yyyy', 'z', 'zz', 'zzz', 'zzzz']\n",
    "\n",
    "    ['x', 'y', 'z', 'xx', 'yy', 'zz', 'xxx', 'yyy', 'zzz', 'xxxx', 'yyyy', 'zzzz']\n",
    "    \n",
    "    [[2], [3], [4], [3], [4], [5], [4], [5], [6]]\n",
    "\n",
    "    [[2, 3, 4, 5], [3, 4, 5, 6], [4, 5, 6, 7], [5, 6, 7, 8]]\n",
    "\n",
    "    [(1, 1), (2, 1), (3, 1), (1, 2), (2, 2), (3, 2), (1, 3), (2, 3), (3, 3)]"
   ]
  },
  {
   "cell_type": "code",
   "execution_count": 116,
   "metadata": {},
   "outputs": [
    {
     "name": "stdout",
     "output_type": "stream",
     "text": [
      "['A', 'C', 'A', 'D', 'G', 'I', 'L', 'D']\n",
      "['x', 'xx', 'xxx', 'xxxx', 'y', 'yy', 'yyy', 'yyyy', 'z', 'zz', 'zzz', 'zzzz']\n",
      "['x', 'y', 'z', 'xx', 'yy', 'zz', 'xxx', 'yyy', 'zzz', 'xxxx', 'yyyy', 'zzzz']\n",
      "[[2], [3], [4], [3], [4], [5], [4], [5], [6]]\n",
      "[[2, 3, 4, 5], [3, 4, 5, 6], [4, 5, 6, 7], [5, 6, 7, 8]]\n",
      "[(1, 1), (2, 1), (3, 1), (1, 2), (2, 2), (3, 2), (1, 3), (2, 3), (3, 3)]\n"
     ]
    }
   ],
   "source": [
    "print([x for x in 'ACADGILD'])\n",
    "print([x*i for x in 'xyz' for i in range(1, 5)])\n",
    "print([i*x for x in range(1, 5) for i in 'xyz'])\n",
    "print([[i+j] for i in range(1, 4) for j in range(1, 4)])\n",
    "print([[i+j for j in range(1, 5)] for i in range(1, 5)])\n",
    "print([(j, i) for i in range(1, 4) for j in range(1, 4)])"
   ]
  },
  {
   "cell_type": "markdown",
   "metadata": {},
   "source": [
    "Q.4 Implement a function longestWord() that takes a list of words and returns the longest one."
   ]
  },
  {
   "cell_type": "code",
   "execution_count": 126,
   "metadata": {},
   "outputs": [
    {
     "name": "stdout",
     "output_type": "stream",
     "text": [
      "how are you\n"
     ]
    }
   ],
   "source": [
    "def longestWord(words):\n",
    "    \n",
    "    newlist = [len(word) for word in words]\n",
    "    return words[newlist.index(max(newlist))]\n",
    "    #return max(words)\n",
    "\n",
    "words = ['hi', 'howareyou', 'howareyou', 'hey', 'how are you']\n",
    "maxword = longestWord(words)\n",
    "print(maxword)"
   ]
  },
  {
   "cell_type": "markdown",
   "metadata": {},
   "source": [
    "Q.5 Write a Python Program(with class concepts) to find the area of the triangle using the below\n",
    "formula.\n",
    "\n",
    "area = (s*(s-a)*(s-b)*(s-c)) ** 0.5\n",
    "\n",
    "Function to take the length of the sides of triangle from user should be defined in the parent\n",
    "class and function to calculate the area should be defined in subclass."
   ]
  },
  {
   "cell_type": "code",
   "execution_count": 157,
   "metadata": {},
   "outputs": [
    {
     "data": {
      "text/plain": [
       "187.03742940919605"
      ]
     },
     "execution_count": 157,
     "metadata": {},
     "output_type": "execute_result"
    }
   ],
   "source": [
    "class Triangle:\n",
    "    \n",
    "    def __init__(self):\n",
    "        self._a = 0\n",
    "        self._b = 0\n",
    "        self._c = 0\n",
    "    \n",
    "    def setTriangleSides(self, a, b, c):\n",
    "        \n",
    "        self._a = a\n",
    "        self._b = b\n",
    "        self._c = c\n",
    "\n",
    "class Area(Triangle):\n",
    "    \n",
    "    def calculateArea(self):\n",
    "        s = (self._a + self._b + self._c)/2\n",
    "        \n",
    "        return (s * (s - self._a) * (s - self._b) * (s - self._c)) ** 0.5\n",
    "        \n",
    "a = Area()\n",
    "a.setTriangleSides(16, 26, 36)\n",
    "a.calculateArea()"
   ]
  },
  {
   "cell_type": "markdown",
   "metadata": {},
   "source": [
    "Q.6 Write a function filter_long_words() that takes a list of words and an integer n and returns the list\n",
    "of words that are longer than n."
   ]
  },
  {
   "cell_type": "code",
   "execution_count": 137,
   "metadata": {},
   "outputs": [
    {
     "name": "stdout",
     "output_type": "stream",
     "text": [
      "['howareyou', 'howareyou', 'how are you']\n"
     ]
    }
   ],
   "source": [
    "def filter_long_words(words, n):\n",
    "    return [word for word in words if len(word) > n]\n",
    "\n",
    "words = ['hi', 'howareyou', 'howareyou', 'hey', 'how are you']\n",
    "print(filter_long_words(words, 3))"
   ]
  },
  {
   "cell_type": "markdown",
   "metadata": {},
   "source": [
    "Q.7 Write a Python program using function concept that maps list of words into a list of integers\n",
    "representing the lengths of the corresponding words.\n",
    "    \n",
    "    Hint: If a list [ ab,cde,erty] is passed on to the python function output should come as [2,3,4]\n",
    "    Here 2,3 and 4 are the lengths of the words in the list."
   ]
  },
  {
   "cell_type": "code",
   "execution_count": 138,
   "metadata": {},
   "outputs": [
    {
     "name": "stdout",
     "output_type": "stream",
     "text": [
      "[2, 3, 4]\n"
     ]
    }
   ],
   "source": [
    "def mapwordtonumber(words):\n",
    "    return [len(word) for word in words]\n",
    "\n",
    "words = ['ab', 'cde', 'erty']\n",
    "print(mapwordtonumber(words))"
   ]
  },
  {
   "cell_type": "markdown",
   "metadata": {},
   "source": [
    "Q.8 Write a Python function which takes a character (i.e. a string of length 1) and returns True if it is\n",
    "a vowel, False otherwise."
   ]
  },
  {
   "cell_type": "code",
   "execution_count": 139,
   "metadata": {},
   "outputs": [
    {
     "name": "stdout",
     "output_type": "stream",
     "text": [
      "It is a vowel\n"
     ]
    }
   ],
   "source": [
    "def isVowel(char):\n",
    "    \n",
    "    if len(char) == 1:\n",
    "        if char.lower() in ('a', 'e', 'i', 'o', 'u'):\n",
    "            return 'It is a vowel'\n",
    "    else:\n",
    "        print('Please pass single character')\n",
    "        \n",
    "print(isVowel('A'))"
   ]
  },
  {
   "cell_type": "markdown",
   "metadata": {},
   "source": [
    "## Great job!"
   ]
  }
 ],
 "metadata": {
  "kernelspec": {
   "display_name": "Python 3",
   "language": "python",
   "name": "python3"
  },
  "language_info": {
   "codemirror_mode": {
    "name": "ipython",
    "version": 3
   },
   "file_extension": ".py",
   "mimetype": "text/x-python",
   "name": "python",
   "nbconvert_exporter": "python",
   "pygments_lexer": "ipython3",
   "version": "3.7.1"
  }
 },
 "nbformat": 4,
 "nbformat_minor": 2
}
